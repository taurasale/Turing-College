{
 "cells": [
  {
   "cell_type": "markdown",
   "id": "d6117455",
   "metadata": {},
   "source": [
    "# . Analysis"
   ]
  },
  {
   "cell_type": "markdown",
   "id": "a6161c0c",
   "metadata": {},
   "source": [
    "## Saunuolis"
   ]
  },
  {
   "cell_type": "code",
   "execution_count": 7,
   "id": "50ce2354",
   "metadata": {},
   "outputs": [],
   "source": [
    "from collections import namedtuple, deque, defaultdict\n",
    "import time\n",
    "\n",
    "Post = namedtuple(\"Post\", [\"timestamp\", \"user\", \"text\"])\n",
    "posts = deque()\n",
    "user_posts = defaultdict(deque)\n",
    "\n",
    "\n",
    "def post_message(user, text, timestamp=None):\n",
    "    timestamp = time.timestamp or time.time()\n",
    "    post = Post(timestamp, user, text)\n",
    "    posts.appendleft(post)\n",
    "    user_posts[user].appendleft(post)\n",
    "  "
   ]
  },
  {
   "cell_type": "code",
   "execution_count": null,
   "id": "e8fd0c9f",
   "metadata": {},
   "outputs": [],
   "source": []
  }
 ],
 "metadata": {
  "kernelspec": {
   "display_name": "Python 3 (ipykernel)",
   "language": "python",
   "name": "python3"
  },
  "language_info": {
   "codemirror_mode": {
    "name": "ipython",
    "version": 3
   },
   "file_extension": ".py",
   "mimetype": "text/x-python",
   "name": "python",
   "nbconvert_exporter": "python",
   "pygments_lexer": "ipython3",
   "version": "3.10.8"
  },
  "toc": {
   "base_numbering": "1.",
   "nav_menu": {},
   "number_sections": true,
   "sideBar": true,
   "skip_h1_title": false,
   "title_cell": "Table of Contents",
   "title_sidebar": "",
   "toc_cell": false,
   "toc_position": {
    "height": "calc(100% - 180px)",
    "left": "10px",
    "top": "150px",
    "width": "345.994px"
   },
   "toc_section_display": true,
   "toc_window_display": true
  }
 },
 "nbformat": 4,
 "nbformat_minor": 5
}
